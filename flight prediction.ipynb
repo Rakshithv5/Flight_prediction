{
  "nbformat": 4,
  "nbformat_minor": 0,
  "metadata": {
    "colab": {
      "name": "Untitled4.ipynb",
      "provenance": [],
      "collapsed_sections": []
    },
    "kernelspec": {
      "name": "python3",
      "display_name": "Python 3"
    },
    "language_info": {
      "name": "python"
    }
  },
  "cells": [
    {
      "cell_type": "code",
      "metadata": {
        "id": "LXsSse9ZaxaV"
      },
      "source": [
        "import pandas as pd \n",
        "import numpy as np\n",
        "import seaborn as sns \n",
        "import matplotlib.pyplot as plt\n",
        "from sklearn.preprocessing import LabelEncoder,StandardScaler,MinMaxScaler,PolynomialFeatures,OneHotEncoder\n",
        "from sklearn.pipeline import Pipeline\n",
        "from sklearn.compose import ColumnTransformer\n",
        "from sklearn.linear_model import LinearRegression\n",
        "from sklearn.ensemble import RandomForestRegressor\n",
        "from sklearn.metrics import *\n",
        "import warnings\n",
        "warnings.simplefilter('ignore')\n",
        "from xgboost import XGBRegressor"
      ],
      "execution_count": 1,
      "outputs": []
    },
    {
      "cell_type": "code",
      "metadata": {
        "id": "FOo5XizEbOeh"
      },
      "source": [
        "df=pd.read_excel('Data_Train.xlsx')"
      ],
      "execution_count": 3,
      "outputs": []
    },
    {
      "cell_type": "code",
      "metadata": {
        "id": "oR5h4FaRboYd"
      },
      "source": [
        "df=df.dropna()"
      ],
      "execution_count": 4,
      "outputs": []
    },
    {
      "cell_type": "code",
      "metadata": {
        "colab": {
          "base_uri": "https://localhost:8080/"
        },
        "id": "PbPjwnMvbrPx",
        "outputId": "fc9c1702-9684-4877-8743-8cd9b05f261a"
      },
      "source": [
        "df.info()"
      ],
      "execution_count": 5,
      "outputs": [
        {
          "output_type": "stream",
          "name": "stdout",
          "text": [
            "<class 'pandas.core.frame.DataFrame'>\n",
            "Int64Index: 10682 entries, 0 to 10682\n",
            "Data columns (total 11 columns):\n",
            " #   Column           Non-Null Count  Dtype \n",
            "---  ------           --------------  ----- \n",
            " 0   Airline          10682 non-null  object\n",
            " 1   Date_of_Journey  10682 non-null  object\n",
            " 2   Source           10682 non-null  object\n",
            " 3   Destination      10682 non-null  object\n",
            " 4   Route            10682 non-null  object\n",
            " 5   Dep_Time         10682 non-null  object\n",
            " 6   Arrival_Time     10682 non-null  object\n",
            " 7   Duration         10682 non-null  object\n",
            " 8   Total_Stops      10682 non-null  object\n",
            " 9   Additional_Info  10682 non-null  object\n",
            " 10  Price            10682 non-null  int64 \n",
            "dtypes: int64(1), object(10)\n",
            "memory usage: 1001.4+ KB\n"
          ]
        }
      ]
    },
    {
      "cell_type": "code",
      "metadata": {
        "colab": {
          "base_uri": "https://localhost:8080/"
        },
        "id": "Z42rgWa4buVA",
        "outputId": "4f611f55-cb4d-4a6d-c6f7-5e0120c5b8d3"
      },
      "source": [
        "df['Airline'].value_counts()"
      ],
      "execution_count": 6,
      "outputs": [
        {
          "output_type": "execute_result",
          "data": {
            "text/plain": [
              "Jet Airways                          3849\n",
              "IndiGo                               2053\n",
              "Air India                            1751\n",
              "Multiple carriers                    1196\n",
              "SpiceJet                              818\n",
              "Vistara                               479\n",
              "Air Asia                              319\n",
              "GoAir                                 194\n",
              "Multiple carriers Premium economy      13\n",
              "Jet Airways Business                    6\n",
              "Vistara Premium economy                 3\n",
              "Trujet                                  1\n",
              "Name: Airline, dtype: int64"
            ]
          },
          "metadata": {},
          "execution_count": 6
        }
      ]
    },
    {
      "cell_type": "code",
      "metadata": {
        "id": "EbAe4hhQbymv"
      },
      "source": [
        "df['Day']=df['Date_of_Journey'].apply(lambda x:x.split('/')[0])"
      ],
      "execution_count": 7,
      "outputs": []
    },
    {
      "cell_type": "code",
      "metadata": {
        "id": "PHMZhFpjb8Ov"
      },
      "source": [
        "df['Month']=df['Date_of_Journey'].apply(lambda x:x.split('/')[1])\n",
        "df['Year']=df['Date_of_Journey'].apply(lambda x:x.split('/')[2])"
      ],
      "execution_count": 9,
      "outputs": []
    },
    {
      "cell_type": "code",
      "metadata": {
        "id": "EsdhCy7LfB6U"
      },
      "source": [
        "df=df.drop('Date_of_Journey',axis=1)\n"
      ],
      "execution_count": 10,
      "outputs": []
    },
    {
      "cell_type": "code",
      "metadata": {
        "id": "Q7vsKE2JfLwe"
      },
      "source": [
        "df['Day']=df['Day'].apply(lambda x:int(x))\n",
        "df['Month']=df['Month'].apply(lambda x:int(x))\n",
        "df['Year']=df['Year'].apply(lambda x:int(x))"
      ],
      "execution_count": 11,
      "outputs": []
    },
    {
      "cell_type": "code",
      "metadata": {
        "id": "_zuoy_omfUTH"
      },
      "source": [
        "df=df.drop(['Arrival_Time','Dep_Time'],axis=1)"
      ],
      "execution_count": 12,
      "outputs": []
    },
    {
      "cell_type": "code",
      "metadata": {
        "id": "pmvAnY3VfZOB"
      },
      "source": [
        "df['Hours']=df['Duration'].apply(lambda x:x.split()[0])\n",
        "df['Minutes']=df['Duration'].apply(lambda x:x.split()[1] if len(x.split())>1 else 0)"
      ],
      "execution_count": 13,
      "outputs": []
    },
    {
      "cell_type": "code",
      "metadata": {
        "id": "zW7I_UjPfuKO"
      },
      "source": [
        "df['Hours']=df['Hours'].apply(lambda x:x[0])\n",
        "df['Minutes']=df['Minutes'].apply(lambda x:x[:x.index('m')]if x!=0 else 0)"
      ],
      "execution_count": 14,
      "outputs": []
    },
    {
      "cell_type": "code",
      "metadata": {
        "id": "k7GEM22Lfwqi"
      },
      "source": [
        "df['Hours']=df['Hours'].apply(lambda x:int(x))\n",
        "df['Minutes']=df['Minutes'].apply(lambda x:int(x))"
      ],
      "execution_count": 15,
      "outputs": []
    },
    {
      "cell_type": "code",
      "metadata": {
        "id": "-YyAIaohfyg4"
      },
      "source": [
        "df=df.drop(['Duration','Route'],axis=1)"
      ],
      "execution_count": 16,
      "outputs": []
    },
    {
      "cell_type": "code",
      "metadata": {
        "colab": {
          "base_uri": "https://localhost:8080/"
        },
        "id": "8Ns8l3vqf0dk",
        "outputId": "fc86fcb5-0d22-4472-df71-b509384fa846"
      },
      "source": [
        "df['Total_Stops'].value_counts()"
      ],
      "execution_count": 17,
      "outputs": [
        {
          "output_type": "execute_result",
          "data": {
            "text/plain": [
              "1 stop      5625\n",
              "non-stop    3491\n",
              "2 stops     1520\n",
              "3 stops       45\n",
              "4 stops        1\n",
              "Name: Total_Stops, dtype: int64"
            ]
          },
          "metadata": {},
          "execution_count": 17
        }
      ]
    },
    {
      "cell_type": "code",
      "metadata": {
        "id": "DgcLCUfDf28K"
      },
      "source": [
        "df['Additional_Info']=np.where(df['Additional_Info']=='No Info','No info',df['Additional_Info'])"
      ],
      "execution_count": 18,
      "outputs": []
    },
    {
      "cell_type": "code",
      "metadata": {
        "colab": {
          "base_uri": "https://localhost:8080/"
        },
        "id": "Vnmqkhfhf402",
        "outputId": "3d424098-3a09-45fd-81c1-7e0b6a8ea3f1"
      },
      "source": [
        "df['Additional_Info'].value_counts()"
      ],
      "execution_count": 19,
      "outputs": [
        {
          "output_type": "execute_result",
          "data": {
            "text/plain": [
              "No info                         8347\n",
              "In-flight meal not included     1982\n",
              "No check-in baggage included     320\n",
              "1 Long layover                    19\n",
              "Change airports                    7\n",
              "Business class                     4\n",
              "2 Long layover                     1\n",
              "1 Short layover                    1\n",
              "Red-eye flight                     1\n",
              "Name: Additional_Info, dtype: int64"
            ]
          },
          "metadata": {},
          "execution_count": 19
        }
      ]
    },
    {
      "cell_type": "code",
      "metadata": {
        "id": "-zJ9KGTIf6u6"
      },
      "source": [
        "df['Total_duration']=(df['Hours']*60)+df['Minutes']"
      ],
      "execution_count": 20,
      "outputs": []
    },
    {
      "cell_type": "code",
      "metadata": {
        "id": "COluPakvf8zJ"
      },
      "source": [
        "df=df.drop(['Hours','Minutes'],axis=1)"
      ],
      "execution_count": 21,
      "outputs": []
    },
    {
      "cell_type": "code",
      "metadata": {
        "id": "m6dOWIKwgRqI"
      },
      "source": [
        "df['Total_Stops']=np.where(df['Total_Stops']!='non-stop','stop',df['Total_Stops'])"
      ],
      "execution_count": 22,
      "outputs": []
    },
    {
      "cell_type": "code",
      "metadata": {
        "id": "rQ173wTOgUNN"
      },
      "source": [
        "X=df.drop('Price',axis=1)\n",
        "y=df.Price\n",
        "from sklearn.model_selection import train_test_split\n",
        "x_train,x_test,y_train,y_test=train_test_split(X,y,test_size=0.2,random_state=0)\n",
        "cat_cols=[i for i in x_train.columns if x_train[i].dtypes=='O']\n",
        "num_cols=[i for i in x_train.columns if x_train[i].dtypes!='O']"
      ],
      "execution_count": 23,
      "outputs": []
    },
    {
      "cell_type": "code",
      "metadata": {
        "colab": {
          "base_uri": "https://localhost:8080/"
        },
        "id": "ldtb-N-AgXWd",
        "outputId": "46e79e3a-7c4e-4d01-9cd0-a04dd00e9ca2"
      },
      "source": [
        "label=LabelEncoder()\n",
        "for i in cat_cols:\n",
        "  x_train[i]=label.fit_transform(x_train[i])\n",
        "  print(label.classes_,label.transform(label.classes_))\n",
        "  x_test[i]=label.transform(x_test[i])"
      ],
      "execution_count": 24,
      "outputs": [
        {
          "output_type": "stream",
          "name": "stdout",
          "text": [
            "['Air Asia' 'Air India' 'GoAir' 'IndiGo' 'Jet Airways'\n",
            " 'Jet Airways Business' 'Multiple carriers'\n",
            " 'Multiple carriers Premium economy' 'SpiceJet' 'Trujet' 'Vistara'\n",
            " 'Vistara Premium economy'] [ 0  1  2  3  4  5  6  7  8  9 10 11]\n",
            "['Banglore' 'Chennai' 'Delhi' 'Kolkata' 'Mumbai'] [0 1 2 3 4]\n",
            "['Banglore' 'Cochin' 'Delhi' 'Hyderabad' 'Kolkata' 'New Delhi'] [0 1 2 3 4 5]\n",
            "['non-stop' 'stop'] [0 1]\n",
            "['1 Long layover' '1 Short layover' '2 Long layover' 'Business class'\n",
            " 'Change airports' 'In-flight meal not included'\n",
            " 'No check-in baggage included' 'No info' 'Red-eye flight'] [0 1 2 3 4 5 6 7 8]\n"
          ]
        }
      ]
    },
    {
      "cell_type": "code",
      "metadata": {
        "colab": {
          "base_uri": "https://localhost:8080/"
        },
        "id": "eXBMsdB5gaJa",
        "outputId": "754e1fc4-33cd-4cdb-f689-38e6af2b7b0f"
      },
      "source": [
        "pp=Pipeline([\n",
        "             ('step2',StandardScaler()),\n",
        "            #  ('Step3',PolynomialFeatures(degree=3)),\n",
        "            #  ('model',LinearRegression())\n",
        "            ('model',RandomForestRegressor(n_estimators=300,min_samples_split=18,max_depth=15))\n",
        "])\n",
        "y_pred=pp.fit(x_train,y_train).predict(x_test)\n",
        "mean_squared_error(y_test,y_pred)"
      ],
      "execution_count": 25,
      "outputs": [
        {
          "output_type": "execute_result",
          "data": {
            "text/plain": [
              "4930352.630512268"
            ]
          },
          "metadata": {},
          "execution_count": 25
        }
      ]
    },
    {
      "cell_type": "code",
      "metadata": {
        "colab": {
          "base_uri": "https://localhost:8080/"
        },
        "id": "EfAyfa3Agcul",
        "outputId": "78b101a2-38ca-4146-a3ce-7ae48f175f2c"
      },
      "source": [
        "r2_score(y_test,y_pred)"
      ],
      "execution_count": 26,
      "outputs": [
        {
          "output_type": "execute_result",
          "data": {
            "text/plain": [
              "0.7898684795581863"
            ]
          },
          "metadata": {},
          "execution_count": 26
        }
      ]
    },
    {
      "cell_type": "code",
      "metadata": {
        "colab": {
          "base_uri": "https://localhost:8080/"
        },
        "id": "e49QFwB0gjIK",
        "outputId": "3f9d7d5f-88f9-4f42-ec2a-a8025f6cc192"
      },
      "source": [
        "print(y_pred)"
      ],
      "execution_count": 27,
      "outputs": [
        {
          "output_type": "stream",
          "name": "stdout",
          "text": [
            "[14175.04241856  6329.88120531  3651.29897986 ...  8814.20020355\n",
            "  9762.75106156  4020.30674405]\n"
          ]
        }
      ]
    },
    {
      "cell_type": "code",
      "metadata": {
        "id": "xWrhI2H6gnMS"
      },
      "source": [
        "prediction = pd.DataFrame(y_pred, columns=['predictions']).to_excel('Test_set.xlsx')"
      ],
      "execution_count": 29,
      "outputs": []
    }
  ]
}